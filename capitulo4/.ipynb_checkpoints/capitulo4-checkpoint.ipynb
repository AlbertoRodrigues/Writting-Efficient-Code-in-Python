{
 "cells": [
  {
   "cell_type": "markdown",
   "id": "fcb0ead5",
   "metadata": {},
   "source": [
    "# Nesse capítulo vou mostrar alguns métodos mais eficientes quando estamos trabalhando com Data Frames do Pandas.\n",
    "# Esses métodos são:\n",
    "1. iterrows\n",
    "2. itertuples\n",
    "3. apply\n",
    "4. Vetorização usando numpy"
   ]
  },
  {
   "cell_type": "code",
   "execution_count": 3,
   "id": "56489573",
   "metadata": {},
   "outputs": [],
   "source": [
    "import pandas as pd\n",
    "import numpy as np"
   ]
  },
  {
   "cell_type": "code",
   "execution_count": 2,
   "id": "555db6ae",
   "metadata": {},
   "outputs": [
    {
     "name": "stdout",
     "output_type": "stream",
     "text": [
      "  Team League  Year   RS   RA   W    OBP    SLG     BA  Playoffs  RankSeason  \\\n",
      "0  ARI     NL  2012  734  688  81  0.328  0.418  0.259         0         NaN   \n",
      "1  ATL     NL  2012  700  600  94  0.320  0.389  0.247         1         4.0   \n",
      "2  BAL     AL  2012  712  705  93  0.311  0.417  0.247         1         5.0   \n",
      "3  BOS     AL  2012  734  806  69  0.315  0.415  0.260         0         NaN   \n",
      "4  CHC     NL  2012  613  759  61  0.302  0.378  0.240         0         NaN   \n",
      "\n",
      "   RankPlayoffs    G   OOBP   OSLG  \n",
      "0           NaN  162  0.317  0.415  \n",
      "1           5.0  162  0.306  0.378  \n",
      "2           4.0  162  0.315  0.403  \n",
      "3           NaN  162  0.331  0.428  \n",
      "4           NaN  162  0.335  0.424  \n"
     ]
    }
   ],
   "source": [
    "baseball_df = pd.read_csv('../dados/baseball_stats.csv')\n",
    "print(baseball_df.head())"
   ]
  },
  {
   "cell_type": "code",
   "execution_count": 4,
   "id": "cb2aa8b9",
   "metadata": {},
   "outputs": [],
   "source": [
    "# Função que será utilizada para criar uma nova variável\n",
    "def calc_win_perc(wins, games_played):\n",
    "    win_perc = wins / games_played\n",
    "    return np.round(win_perc,2)"
   ]
  },
  {
   "cell_type": "markdown",
   "id": "22218cda",
   "metadata": {},
   "source": [
    "## A maneira mais fácil de calcular essa variável passando por todos os dados seria usar iterar sobre o data frame usando .iloc, porém é muito ineficiente."
   ]
  },
  {
   "cell_type": "code",
   "execution_count": 14,
   "id": "acdfc658",
   "metadata": {},
   "outputs": [
    {
     "name": "stdout",
     "output_type": "stream",
     "text": [
      "164 ms ± 3.06 ms per loop (mean ± std. dev. of 5 runs, 10 loops each)\n"
     ]
    }
   ],
   "source": [
    "win_perc_list = []\n",
    "for i in range(len(baseball_df.iloc[:5])):\n",
    "    print(baseball_df.iloc[i])"
   ]
  },
  {
   "cell_type": "markdown",
   "id": "592d4aac",
   "metadata": {},
   "source": [
    "## Um método mais eficiente e rápido é usar o iterrows() ao invés do .iloc. Uma pequena diferença é que usando esse método ele retorna uma tupla, com o primeiro elemento sendo o índice do data frame e o segundo sendo os dados de cada linha"
   ]
  },
  {
   "cell_type": "code",
   "execution_count": 17,
   "id": "063cc5b6",
   "metadata": {},
   "outputs": [
    {
     "name": "stdout",
     "output_type": "stream",
     "text": [
      "(0, Team              ARI\n",
      "League             NL\n",
      "Year             2012\n",
      "RS                734\n",
      "RA                688\n",
      "W                  81\n",
      "OBP             0.328\n",
      "SLG             0.418\n",
      "BA              0.259\n",
      "Playoffs            0\n",
      "RankSeason        NaN\n",
      "RankPlayoffs      NaN\n",
      "G                 162\n",
      "OOBP            0.317\n",
      "OSLG            0.415\n",
      "WP                0.5\n",
      "Name: 0, dtype: object)\n",
      "(1, Team              ATL\n",
      "League             NL\n",
      "Year             2012\n",
      "RS                700\n",
      "RA                600\n",
      "W                  94\n",
      "OBP              0.32\n",
      "SLG             0.389\n",
      "BA              0.247\n",
      "Playoffs            1\n",
      "RankSeason        4.0\n",
      "RankPlayoffs      5.0\n",
      "G                 162\n",
      "OOBP            0.306\n",
      "OSLG            0.378\n",
      "WP               0.58\n",
      "Name: 1, dtype: object)\n",
      "(2, Team              BAL\n",
      "League             AL\n",
      "Year             2012\n",
      "RS                712\n",
      "RA                705\n",
      "W                  93\n",
      "OBP             0.311\n",
      "SLG             0.417\n",
      "BA              0.247\n",
      "Playoffs            1\n",
      "RankSeason        5.0\n",
      "RankPlayoffs      4.0\n",
      "G                 162\n",
      "OOBP            0.315\n",
      "OSLG            0.403\n",
      "WP               0.57\n",
      "Name: 2, dtype: object)\n",
      "(3, Team              BOS\n",
      "League             AL\n",
      "Year             2012\n",
      "RS                734\n",
      "RA                806\n",
      "W                  69\n",
      "OBP             0.315\n",
      "SLG             0.415\n",
      "BA               0.26\n",
      "Playoffs            0\n",
      "RankSeason        NaN\n",
      "RankPlayoffs      NaN\n",
      "G                 162\n",
      "OOBP            0.331\n",
      "OSLG            0.428\n",
      "WP               0.43\n",
      "Name: 3, dtype: object)\n",
      "(4, Team              CHC\n",
      "League             NL\n",
      "Year             2012\n",
      "RS                613\n",
      "RA                759\n",
      "W                  61\n",
      "OBP             0.302\n",
      "SLG             0.378\n",
      "BA               0.24\n",
      "Playoffs            0\n",
      "RankSeason        NaN\n",
      "RankPlayoffs      NaN\n",
      "G                 162\n",
      "OOBP            0.335\n",
      "OSLG            0.424\n",
      "WP               0.38\n",
      "Name: 4, dtype: object)\n",
      "(5, Team              CHW\n",
      "League             AL\n",
      "Year             2012\n",
      "RS                748\n",
      "RA                676\n",
      "W                  85\n",
      "OBP             0.318\n",
      "SLG             0.422\n",
      "BA              0.255\n",
      "Playoffs            0\n",
      "RankSeason        NaN\n",
      "RankPlayoffs      NaN\n",
      "G                 162\n",
      "OOBP            0.319\n",
      "OSLG            0.405\n",
      "WP               0.52\n",
      "Name: 5, dtype: object)\n",
      "(6, Team              CIN\n",
      "League             NL\n",
      "Year             2012\n",
      "RS                669\n",
      "RA                588\n",
      "W                  97\n",
      "OBP             0.315\n",
      "SLG             0.411\n",
      "BA              0.251\n",
      "Playoffs            1\n",
      "RankSeason        2.0\n",
      "RankPlayoffs      4.0\n",
      "G                 162\n",
      "OOBP            0.305\n",
      "OSLG             0.39\n",
      "WP                0.6\n",
      "Name: 6, dtype: object)\n",
      "(7, Team              CLE\n",
      "League             AL\n",
      "Year             2012\n",
      "RS                667\n",
      "RA                845\n",
      "W                  68\n",
      "OBP             0.324\n",
      "SLG             0.381\n",
      "BA              0.251\n",
      "Playoffs            0\n",
      "RankSeason        NaN\n",
      "RankPlayoffs      NaN\n",
      "G                 162\n",
      "OOBP            0.336\n",
      "OSLG             0.43\n",
      "WP               0.42\n",
      "Name: 7, dtype: object)\n",
      "(8, Team              COL\n",
      "League             NL\n",
      "Year             2012\n",
      "RS                758\n",
      "RA                890\n",
      "W                  64\n",
      "OBP              0.33\n",
      "SLG             0.436\n",
      "BA              0.274\n",
      "Playoffs            0\n",
      "RankSeason        NaN\n",
      "RankPlayoffs      NaN\n",
      "G                 162\n",
      "OOBP            0.357\n",
      "OSLG             0.47\n",
      "WP                0.4\n",
      "Name: 8, dtype: object)\n",
      "(9, Team              DET\n",
      "League             AL\n",
      "Year             2012\n",
      "RS                726\n",
      "RA                670\n",
      "W                  88\n",
      "OBP             0.335\n",
      "SLG             0.422\n",
      "BA              0.268\n",
      "Playoffs            1\n",
      "RankSeason        6.0\n",
      "RankPlayoffs      2.0\n",
      "G                 162\n",
      "OOBP            0.314\n",
      "OSLG            0.402\n",
      "WP               0.54\n",
      "Name: 9, dtype: object)\n"
     ]
    }
   ],
   "source": [
    "for row_tuple in baseball_df.iloc[:5].iterrows():\n",
    "    print(row_tuple)"
   ]
  },
  {
   "cell_type": "markdown",
   "id": "7466586b",
   "metadata": {},
   "source": [
    "## Um método ainda mais eficiente que o iterrows é o itertuples. Para acessar os dados, temos que usar o nome da coluna depois do ponto."
   ]
  },
  {
   "cell_type": "code",
   "execution_count": 18,
   "id": "0e44ddb5",
   "metadata": {},
   "outputs": [
    {
     "name": "stdout",
     "output_type": "stream",
     "text": [
      "Pandas(Index=0, Team='ARI', League='NL', Year=2012, RS=734, RA=688, W=81, OBP=0.328, SLG=0.418, BA=0.259, Playoffs=0, RankSeason=nan, RankPlayoffs=nan, G=162, OOBP=0.317, OSLG=0.415, WP=0.5)\n",
      "Pandas(Index=1, Team='ATL', League='NL', Year=2012, RS=700, RA=600, W=94, OBP=0.32, SLG=0.389, BA=0.247, Playoffs=1, RankSeason=4.0, RankPlayoffs=5.0, G=162, OOBP=0.306, OSLG=0.378, WP=0.58)\n",
      "Pandas(Index=2, Team='BAL', League='AL', Year=2012, RS=712, RA=705, W=93, OBP=0.311, SLG=0.417, BA=0.247, Playoffs=1, RankSeason=5.0, RankPlayoffs=4.0, G=162, OOBP=0.315, OSLG=0.403, WP=0.57)\n",
      "Pandas(Index=3, Team='BOS', League='AL', Year=2012, RS=734, RA=806, W=69, OBP=0.315, SLG=0.415, BA=0.26, Playoffs=0, RankSeason=nan, RankPlayoffs=nan, G=162, OOBP=0.331, OSLG=0.428, WP=0.43)\n",
      "Pandas(Index=4, Team='CHC', League='NL', Year=2012, RS=613, RA=759, W=61, OBP=0.302, SLG=0.378, BA=0.24, Playoffs=0, RankSeason=nan, RankPlayoffs=nan, G=162, OOBP=0.335, OSLG=0.424, WP=0.38)\n",
      "Pandas(Index=5, Team='CHW', League='AL', Year=2012, RS=748, RA=676, W=85, OBP=0.318, SLG=0.422, BA=0.255, Playoffs=0, RankSeason=nan, RankPlayoffs=nan, G=162, OOBP=0.319, OSLG=0.405, WP=0.52)\n",
      "Pandas(Index=6, Team='CIN', League='NL', Year=2012, RS=669, RA=588, W=97, OBP=0.315, SLG=0.411, BA=0.251, Playoffs=1, RankSeason=2.0, RankPlayoffs=4.0, G=162, OOBP=0.305, OSLG=0.39, WP=0.6)\n",
      "Pandas(Index=7, Team='CLE', League='AL', Year=2012, RS=667, RA=845, W=68, OBP=0.324, SLG=0.381, BA=0.251, Playoffs=0, RankSeason=nan, RankPlayoffs=nan, G=162, OOBP=0.336, OSLG=0.43, WP=0.42)\n",
      "Pandas(Index=8, Team='COL', League='NL', Year=2012, RS=758, RA=890, W=64, OBP=0.33, SLG=0.436, BA=0.274, Playoffs=0, RankSeason=nan, RankPlayoffs=nan, G=162, OOBP=0.357, OSLG=0.47, WP=0.4)\n",
      "Pandas(Index=9, Team='DET', League='AL', Year=2012, RS=726, RA=670, W=88, OBP=0.335, SLG=0.422, BA=0.268, Playoffs=1, RankSeason=6.0, RankPlayoffs=2.0, G=162, OOBP=0.314, OSLG=0.402, WP=0.54)\n"
     ]
    }
   ],
   "source": [
    "for row_namedtuple in baseball_df.iloc[:5].itertuples():\n",
    "    print(row_namedtuple)"
   ]
  },
  {
   "cell_type": "markdown",
   "id": "0a9c6fed",
   "metadata": {},
   "source": [
    "### Existe uma diferença absursa entre usar o .iloc e o iterrows() e também entre iterrows() e itertuples(). Devemos usar o método itertuples entre esses três métodos!!"
   ]
  },
  {
   "cell_type": "markdown",
   "id": "46ab01aa",
   "metadata": {},
   "source": [
    "## A função apply evita o uso do for, precisamos passar as colunas a serem usadas e temos que usar uma função a ser aplicada, nesse caso a função calc_win_perc. Também precisamos especificar o axis, sendo 1 para calcular com as linhas e 0 para as colunas"
   ]
  },
  {
   "cell_type": "code",
   "execution_count": 20,
   "id": "94b9759e",
   "metadata": {},
   "outputs": [],
   "source": [
    "baseball_df['RD'] = baseball_df.apply(lambda row: calc_win_perc(row['W'], row['G']),axis=1)"
   ]
  },
  {
   "cell_type": "markdown",
   "id": "bc5ded70",
   "metadata": {},
   "source": [
    "## O último método é tirar proveito da vetorização do pandas usando numpy"
   ]
  },
  {
   "cell_type": "code",
   "execution_count": 23,
   "id": "979df6ac",
   "metadata": {},
   "outputs": [
    {
     "name": "stdout",
     "output_type": "stream",
     "text": [
      "77.6 µs ± 7.35 µs per loop (mean ± std. dev. of 7 runs, 10000 loops each)\n"
     ]
    }
   ],
   "source": [
    "baseball_df['RD'] = baseball_df['W'] - baseball_df['G']"
   ]
  },
  {
   "cell_type": "code",
   "execution_count": 24,
   "id": "afb6cd7b",
   "metadata": {},
   "outputs": [
    {
     "name": "stdout",
     "output_type": "stream",
     "text": [
      "6.09 µs ± 408 ns per loop (mean ± std. dev. of 7 runs, 100000 loops each)\n"
     ]
    }
   ],
   "source": [
    "baseball_df['RD'] = baseball_df['W'].values - baseball_df['G'].values"
   ]
  },
  {
   "cell_type": "markdown",
   "id": "20614b9b",
   "metadata": {},
   "source": [
    "# Agora vamos todos esses métodos com os tempos que são executados:"
   ]
  },
  {
   "cell_type": "code",
   "execution_count": 25,
   "id": "04f4ee37",
   "metadata": {},
   "outputs": [
    {
     "name": "stdout",
     "output_type": "stream",
     "text": [
      "145 ms ± 13.3 ms per loop (mean ± std. dev. of 5 runs, 10 loops each)\n"
     ]
    }
   ],
   "source": [
    "%%timeit -r5 -n10\n",
    "win_perc_list = []\n",
    "for i in range(len(baseball_df)):\n",
    "    row = baseball_df.iloc[i]\n",
    "    win_perc = calc_win_perc(row['W'], row['G'])\n",
    "    win_perc_list.append(win_perc)\n",
    "baseball_df['WP'] = win_perc_list"
   ]
  },
  {
   "cell_type": "code",
   "execution_count": 26,
   "id": "95f411c4",
   "metadata": {},
   "outputs": [
    {
     "name": "stdout",
     "output_type": "stream",
     "text": [
      "72.5 ms ± 6.9 ms per loop (mean ± std. dev. of 5 runs, 10 loops each)\n"
     ]
    }
   ],
   "source": [
    "%%timeit -r5 -n10\n",
    "win_perc_list = []\n",
    "for i,row in baseball_df.iterrows():\n",
    "    win_perc = calc_win_perc(row['W'], row['G'])\n",
    "    win_perc_list.append(win_perc)\n",
    "baseball_df['WP'] = win_perc_list"
   ]
  },
  {
   "cell_type": "code",
   "execution_count": 27,
   "id": "e13c101a",
   "metadata": {},
   "outputs": [
    {
     "name": "stdout",
     "output_type": "stream",
     "text": [
      "16.4 ms ± 2.33 ms per loop (mean ± std. dev. of 5 runs, 10 loops each)\n"
     ]
    }
   ],
   "source": [
    "%%timeit -r5 -n10\n",
    "win_perc_list = []\n",
    "for row in baseball_df.itertuples():\n",
    "    win_perc = calc_win_perc(row.W, row.G)\n",
    "    win_perc_list.append(win_perc)\n",
    "baseball_df['WP'] = win_perc_list"
   ]
  },
  {
   "cell_type": "code",
   "execution_count": 28,
   "id": "71e76156",
   "metadata": {},
   "outputs": [
    {
     "name": "stdout",
     "output_type": "stream",
     "text": [
      "28.3 ms ± 4.06 ms per loop (mean ± std. dev. of 5 runs, 10 loops each)\n"
     ]
    }
   ],
   "source": [
    "%%timeit -r5 -n10\n",
    "baseball_df['RD'] = baseball_df.apply(lambda row: calc_win_perc(row['W'], row['G']),axis=1)"
   ]
  },
  {
   "cell_type": "code",
   "execution_count": 29,
   "id": "dac89cd4",
   "metadata": {},
   "outputs": [
    {
     "name": "stdout",
     "output_type": "stream",
     "text": [
      "The slowest run took 6.20 times longer than the fastest. This could mean that an intermediate result is being cached.\n",
      "405 µs ± 319 µs per loop (mean ± std. dev. of 5 runs, 10 loops each)\n"
     ]
    }
   ],
   "source": [
    "%%timeit -r5 -n10\n",
    "baseball_df['RD'] = baseball_df['W'] - baseball_df['G']"
   ]
  },
  {
   "cell_type": "code",
   "execution_count": 30,
   "id": "d6f3e26d",
   "metadata": {},
   "outputs": [
    {
     "name": "stdout",
     "output_type": "stream",
     "text": [
      "The slowest run took 5.57 times longer than the fastest. This could mean that an intermediate result is being cached.\n",
      "328 µs ± 214 µs per loop (mean ± std. dev. of 5 runs, 10 loops each)\n"
     ]
    }
   ],
   "source": [
    "%%timeit -r5 -n10\n",
    "baseball_df['RD'] = baseball_df['W'].values - baseball_df['G'].values"
   ]
  },
  {
   "cell_type": "markdown",
   "id": "d4b5c43d",
   "metadata": {},
   "source": [
    "## Nesse caso, a ordem dos métodos mais eficientes são:\n",
    "1. Vetorização com numpy\n",
    "2. Vetorização com pandas\n",
    "3. itertuples\n",
    "4. apply\n",
    "5. iterrows\n",
    "6. iloc"
   ]
  },
  {
   "cell_type": "code",
   "execution_count": null,
   "id": "a415334d",
   "metadata": {},
   "outputs": [],
   "source": []
  }
 ],
 "metadata": {
  "kernelspec": {
   "display_name": "Python 3 (ipykernel)",
   "language": "python",
   "name": "python3"
  },
  "language_info": {
   "codemirror_mode": {
    "name": "ipython",
    "version": 3
   },
   "file_extension": ".py",
   "mimetype": "text/x-python",
   "name": "python",
   "nbconvert_exporter": "python",
   "pygments_lexer": "ipython3",
   "version": "3.9.7"
  }
 },
 "nbformat": 4,
 "nbformat_minor": 5
}
