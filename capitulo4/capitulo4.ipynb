{
 "cells": [
  {
   "cell_type": "markdown",
   "id": "fcb0ead5",
   "metadata": {},
   "source": [
    "# Nesse capítulo vou mostrar alguns métodos mais eficientes quando estamos trabalhando com Data Frames do Pandas.\n",
    "# Esses métodos são:\n",
    "1. iterrows\n",
    "2. itertuples\n",
    "3. apply\n",
    "4. Vetorização usando numpy"
   ]
  },
  {
   "cell_type": "code",
   "execution_count": 1,
   "id": "56489573",
   "metadata": {},
   "outputs": [],
   "source": [
    "import pandas as pd\n",
    "import numpy as np"
   ]
  },
  {
   "cell_type": "code",
   "execution_count": 2,
   "id": "555db6ae",
   "metadata": {},
   "outputs": [
    {
     "name": "stdout",
     "output_type": "stream",
     "text": [
      "  Team League  Year   RS   RA   W    OBP    SLG     BA  Playoffs  RankSeason  \\\n",
      "0  ARI     NL  2012  734  688  81  0.328  0.418  0.259         0         NaN   \n",
      "1  ATL     NL  2012  700  600  94  0.320  0.389  0.247         1         4.0   \n",
      "2  BAL     AL  2012  712  705  93  0.311  0.417  0.247         1         5.0   \n",
      "3  BOS     AL  2012  734  806  69  0.315  0.415  0.260         0         NaN   \n",
      "4  CHC     NL  2012  613  759  61  0.302  0.378  0.240         0         NaN   \n",
      "\n",
      "   RankPlayoffs    G   OOBP   OSLG  \n",
      "0           NaN  162  0.317  0.415  \n",
      "1           5.0  162  0.306  0.378  \n",
      "2           4.0  162  0.315  0.403  \n",
      "3           NaN  162  0.331  0.428  \n",
      "4           NaN  162  0.335  0.424  \n"
     ]
    }
   ],
   "source": [
    "baseball_df = pd.read_csv('../dados/baseball_stats.csv')\n",
    "print(baseball_df.head())"
   ]
  },
  {
   "cell_type": "code",
   "execution_count": 3,
   "id": "cb2aa8b9",
   "metadata": {},
   "outputs": [],
   "source": [
    "# Função que será utilizada para criar uma nova variável\n",
    "def calc_win_perc(wins, games_played):\n",
    "    win_perc = wins / games_played\n",
    "    return np.round(win_perc,2)"
   ]
  },
  {
   "cell_type": "markdown",
   "id": "f45227b7",
   "metadata": {},
   "source": [
    "## A maneira mais fácil de calcular essa variável passando por todos os dados seria usar iterar sobre o data frame usando .iloc, porém é muito ineficiente."
   ]
  },
  {
   "cell_type": "code",
   "execution_count": 4,
   "id": "c4f6518f",
   "metadata": {},
   "outputs": [
    {
     "name": "stdout",
     "output_type": "stream",
     "text": [
      "Team              ARI\n",
      "League             NL\n",
      "Year             2012\n",
      "RS                734\n",
      "RA                688\n",
      "W                  81\n",
      "OBP             0.328\n",
      "SLG             0.418\n",
      "BA              0.259\n",
      "Playoffs            0\n",
      "RankSeason        NaN\n",
      "RankPlayoffs      NaN\n",
      "G                 162\n",
      "OOBP            0.317\n",
      "OSLG            0.415\n",
      "Name: 0, dtype: object\n",
      "Team              ATL\n",
      "League             NL\n",
      "Year             2012\n",
      "RS                700\n",
      "RA                600\n",
      "W                  94\n",
      "OBP              0.32\n",
      "SLG             0.389\n",
      "BA              0.247\n",
      "Playoffs            1\n",
      "RankSeason        4.0\n",
      "RankPlayoffs      5.0\n",
      "G                 162\n",
      "OOBP            0.306\n",
      "OSLG            0.378\n",
      "Name: 1, dtype: object\n",
      "Team              BAL\n",
      "League             AL\n",
      "Year             2012\n",
      "RS                712\n",
      "RA                705\n",
      "W                  93\n",
      "OBP             0.311\n",
      "SLG             0.417\n",
      "BA              0.247\n",
      "Playoffs            1\n",
      "RankSeason        5.0\n",
      "RankPlayoffs      4.0\n",
      "G                 162\n",
      "OOBP            0.315\n",
      "OSLG            0.403\n",
      "Name: 2, dtype: object\n",
      "Team              BOS\n",
      "League             AL\n",
      "Year             2012\n",
      "RS                734\n",
      "RA                806\n",
      "W                  69\n",
      "OBP             0.315\n",
      "SLG             0.415\n",
      "BA               0.26\n",
      "Playoffs            0\n",
      "RankSeason        NaN\n",
      "RankPlayoffs      NaN\n",
      "G                 162\n",
      "OOBP            0.331\n",
      "OSLG            0.428\n",
      "Name: 3, dtype: object\n",
      "Team              CHC\n",
      "League             NL\n",
      "Year             2012\n",
      "RS                613\n",
      "RA                759\n",
      "W                  61\n",
      "OBP             0.302\n",
      "SLG             0.378\n",
      "BA               0.24\n",
      "Playoffs            0\n",
      "RankSeason        NaN\n",
      "RankPlayoffs      NaN\n",
      "G                 162\n",
      "OOBP            0.335\n",
      "OSLG            0.424\n",
      "Name: 4, dtype: object\n"
     ]
    }
   ],
   "source": [
    "win_perc_list = []\n",
    "for i in range(len(baseball_df.iloc[:5])):\n",
    "    print(baseball_df.iloc[i])"
   ]
  },
  {
   "cell_type": "markdown",
   "id": "7717d556",
   "metadata": {},
   "source": [
    "## Um método mais eficiente e rápido é usar o iterrows() ao invés do .iloc. Uma pequena diferença é que usando esse método ele retorna uma tupla, com o primeiro elemento sendo o índice do data frame e o segundo sendo os dados de cada linha"
   ]
  },
  {
   "cell_type": "code",
   "execution_count": 5,
   "id": "2f81b30c",
   "metadata": {},
   "outputs": [
    {
     "name": "stdout",
     "output_type": "stream",
     "text": [
      "(0, Team              ARI\n",
      "League             NL\n",
      "Year             2012\n",
      "RS                734\n",
      "RA                688\n",
      "W                  81\n",
      "OBP             0.328\n",
      "SLG             0.418\n",
      "BA              0.259\n",
      "Playoffs            0\n",
      "RankSeason        NaN\n",
      "RankPlayoffs      NaN\n",
      "G                 162\n",
      "OOBP            0.317\n",
      "OSLG            0.415\n",
      "Name: 0, dtype: object)\n",
      "(1, Team              ATL\n",
      "League             NL\n",
      "Year             2012\n",
      "RS                700\n",
      "RA                600\n",
      "W                  94\n",
      "OBP              0.32\n",
      "SLG             0.389\n",
      "BA              0.247\n",
      "Playoffs            1\n",
      "RankSeason        4.0\n",
      "RankPlayoffs      5.0\n",
      "G                 162\n",
      "OOBP            0.306\n",
      "OSLG            0.378\n",
      "Name: 1, dtype: object)\n",
      "(2, Team              BAL\n",
      "League             AL\n",
      "Year             2012\n",
      "RS                712\n",
      "RA                705\n",
      "W                  93\n",
      "OBP             0.311\n",
      "SLG             0.417\n",
      "BA              0.247\n",
      "Playoffs            1\n",
      "RankSeason        5.0\n",
      "RankPlayoffs      4.0\n",
      "G                 162\n",
      "OOBP            0.315\n",
      "OSLG            0.403\n",
      "Name: 2, dtype: object)\n",
      "(3, Team              BOS\n",
      "League             AL\n",
      "Year             2012\n",
      "RS                734\n",
      "RA                806\n",
      "W                  69\n",
      "OBP             0.315\n",
      "SLG             0.415\n",
      "BA               0.26\n",
      "Playoffs            0\n",
      "RankSeason        NaN\n",
      "RankPlayoffs      NaN\n",
      "G                 162\n",
      "OOBP            0.331\n",
      "OSLG            0.428\n",
      "Name: 3, dtype: object)\n",
      "(4, Team              CHC\n",
      "League             NL\n",
      "Year             2012\n",
      "RS                613\n",
      "RA                759\n",
      "W                  61\n",
      "OBP             0.302\n",
      "SLG             0.378\n",
      "BA               0.24\n",
      "Playoffs            0\n",
      "RankSeason        NaN\n",
      "RankPlayoffs      NaN\n",
      "G                 162\n",
      "OOBP            0.335\n",
      "OSLG            0.424\n",
      "Name: 4, dtype: object)\n"
     ]
    }
   ],
   "source": [
    "for row_tuple in baseball_df.iloc[:5].iterrows():\n",
    "    print(row_tuple)"
   ]
  },
  {
   "cell_type": "markdown",
   "id": "a2c28002",
   "metadata": {},
   "source": [
    "## Um método ainda mais eficiente que o iterrows é o itertuples. Para acessar os dados, temos que usar o nome da coluna depois do ponto."
   ]
  },
  {
   "cell_type": "code",
   "execution_count": 6,
   "id": "5d21498b",
   "metadata": {},
   "outputs": [
    {
     "name": "stdout",
     "output_type": "stream",
     "text": [
      "Pandas(Index=0, Team='ARI', League='NL', Year=2012, RS=734, RA=688, W=81, OBP=0.328, SLG=0.418, BA=0.259, Playoffs=0, RankSeason=nan, RankPlayoffs=nan, G=162, OOBP=0.317, OSLG=0.415)\n",
      "Pandas(Index=1, Team='ATL', League='NL', Year=2012, RS=700, RA=600, W=94, OBP=0.32, SLG=0.389, BA=0.247, Playoffs=1, RankSeason=4.0, RankPlayoffs=5.0, G=162, OOBP=0.306, OSLG=0.378)\n",
      "Pandas(Index=2, Team='BAL', League='AL', Year=2012, RS=712, RA=705, W=93, OBP=0.311, SLG=0.417, BA=0.247, Playoffs=1, RankSeason=5.0, RankPlayoffs=4.0, G=162, OOBP=0.315, OSLG=0.403)\n",
      "Pandas(Index=3, Team='BOS', League='AL', Year=2012, RS=734, RA=806, W=69, OBP=0.315, SLG=0.415, BA=0.26, Playoffs=0, RankSeason=nan, RankPlayoffs=nan, G=162, OOBP=0.331, OSLG=0.428)\n",
      "Pandas(Index=4, Team='CHC', League='NL', Year=2012, RS=613, RA=759, W=61, OBP=0.302, SLG=0.378, BA=0.24, Playoffs=0, RankSeason=nan, RankPlayoffs=nan, G=162, OOBP=0.335, OSLG=0.424)\n"
     ]
    }
   ],
   "source": [
    "for row_namedtuple in baseball_df.iloc[:5].itertuples():\n",
    "    print(row_namedtuple)"
   ]
  },
  {
   "cell_type": "markdown",
   "id": "d6a7c82e",
   "metadata": {},
   "source": [
    "### Existe uma diferença absursa entre usar o .iloc e o iterrows() e também entre iterrows() e itertuples(). Devemos usar o método itertuples entre esses três métodos!!"
   ]
  },
  {
   "cell_type": "markdown",
   "id": "46ab01aa",
   "metadata": {},
   "source": [
    "## A função apply evita o uso do for, precisamos passar as colunas a serem usadas e temos que usar uma função a ser aplicada, nesse caso a função calc_win_perc. Também precisamos especificar o axis, sendo 1 para calcular com as linhas e 0 para as colunas"
   ]
  },
  {
   "cell_type": "code",
   "execution_count": 7,
   "id": "e50d14a4",
   "metadata": {},
   "outputs": [],
   "source": [
    "baseball_df['RD'] = baseball_df.apply(lambda row: calc_win_perc(row['W'], row['G']),axis=1)"
   ]
  },
  {
   "cell_type": "markdown",
   "id": "c8c16a23",
   "metadata": {},
   "source": [
    "## O último método é tirar proveito da vetorização do pandas usando numpy"
   ]
  },
  {
   "cell_type": "code",
   "execution_count": 8,
   "id": "23f11aa4",
   "metadata": {},
   "outputs": [],
   "source": [
    "baseball_df['RD'] = baseball_df['W'] - baseball_df['G']"
   ]
  },
  {
   "cell_type": "code",
   "execution_count": 9,
   "id": "7137b888",
   "metadata": {},
   "outputs": [],
   "source": [
    "baseball_df['RD'] = baseball_df['W'].values - baseball_df['G'].values"
   ]
  },
  {
   "cell_type": "markdown",
   "id": "f695e8ad",
   "metadata": {},
   "source": [
    "# Agora vamos todos esses métodos com os tempos que são executados:"
   ]
  },
  {
   "cell_type": "code",
   "execution_count": 10,
   "id": "05f6023f",
   "metadata": {},
   "outputs": [
    {
     "name": "stdout",
     "output_type": "stream",
     "text": [
      "183 ms ± 30.2 ms per loop (mean ± std. dev. of 10 runs, 30 loops each)\n"
     ]
    }
   ],
   "source": [
    "%%timeit -r10 -n30\n",
    "win_perc_list = []\n",
    "for i in range(len(baseball_df)):\n",
    "    row = baseball_df.iloc[i]\n",
    "    win_perc = calc_win_perc(row['W'], row['G'])\n",
    "    win_perc_list.append(win_perc)\n",
    "baseball_df['WP'] = win_perc_list"
   ]
  },
  {
   "cell_type": "code",
   "execution_count": 11,
   "id": "8717ce76",
   "metadata": {},
   "outputs": [
    {
     "name": "stdout",
     "output_type": "stream",
     "text": [
      "84.8 ms ± 3.25 ms per loop (mean ± std. dev. of 10 runs, 30 loops each)\n"
     ]
    }
   ],
   "source": [
    "%%timeit -r10 -n30\n",
    "win_perc_list = []\n",
    "for i,row in baseball_df.iterrows():\n",
    "    win_perc = calc_win_perc(row['W'], row['G'])\n",
    "    win_perc_list.append(win_perc)\n",
    "baseball_df['WP'] = win_perc_list"
   ]
  },
  {
   "cell_type": "code",
   "execution_count": 12,
   "id": "e5547d7b",
   "metadata": {},
   "outputs": [
    {
     "name": "stdout",
     "output_type": "stream",
     "text": [
      "18 ms ± 674 µs per loop (mean ± std. dev. of 10 runs, 30 loops each)\n"
     ]
    }
   ],
   "source": [
    "%%timeit -r10 -n30\n",
    "win_perc_list = []\n",
    "for row in baseball_df.itertuples():\n",
    "    win_perc = calc_win_perc(row.W, row.G)\n",
    "    win_perc_list.append(win_perc)\n",
    "baseball_df['WP'] = win_perc_list"
   ]
  },
  {
   "cell_type": "code",
   "execution_count": 13,
   "id": "335476f9",
   "metadata": {},
   "outputs": [
    {
     "name": "stdout",
     "output_type": "stream",
     "text": [
      "34 ms ± 1.62 ms per loop (mean ± std. dev. of 10 runs, 30 loops each)\n"
     ]
    }
   ],
   "source": [
    "%%timeit -r10 -n30\n",
    "baseball_df['RD'] = baseball_df.apply(lambda row: calc_win_perc(row['W'], row['G']),axis=1)"
   ]
  },
  {
   "cell_type": "code",
   "execution_count": 14,
   "id": "d4137523",
   "metadata": {},
   "outputs": [
    {
     "name": "stdout",
     "output_type": "stream",
     "text": [
      "229 µs ± 44.7 µs per loop (mean ± std. dev. of 10 runs, 30 loops each)\n"
     ]
    }
   ],
   "source": [
    "%%timeit -r10 -n30\n",
    "baseball_df['RD'] = baseball_df['W'] - baseball_df['G']"
   ]
  },
  {
   "cell_type": "code",
   "execution_count": 15,
   "id": "4b3ae127",
   "metadata": {},
   "outputs": [
    {
     "name": "stdout",
     "output_type": "stream",
     "text": [
      "134 µs ± 31.4 µs per loop (mean ± std. dev. of 10 runs, 30 loops each)\n"
     ]
    }
   ],
   "source": [
    "%%timeit -r10 -n30\n",
    "baseball_df['RD'] = baseball_df['W'].values - baseball_df['G'].values"
   ]
  },
  {
   "cell_type": "markdown",
   "id": "6e0e56a8",
   "metadata": {},
   "source": [
    "## Nesse caso, a ordem dos métodos mais eficientes são:\n",
    "1. Vetorização com numpy\n",
    "2. Vetorização com pandas\n",
    "3. itertuples\n",
    "4. apply\n",
    "5. iterrows\n",
    "6. iloc"
   ]
  },
  {
   "cell_type": "code",
   "execution_count": null,
   "id": "61f14918",
   "metadata": {},
   "outputs": [],
   "source": []
  }
 ],
 "metadata": {
  "kernelspec": {
   "display_name": "Python 3 (ipykernel)",
   "language": "python",
   "name": "python3"
  },
  "language_info": {
   "codemirror_mode": {
    "name": "ipython",
    "version": 3
   },
   "file_extension": ".py",
   "mimetype": "text/x-python",
   "name": "python",
   "nbconvert_exporter": "python",
   "pygments_lexer": "ipython3",
   "version": "3.9.7"
  }
 },
 "nbformat": 4,
 "nbformat_minor": 5
}
