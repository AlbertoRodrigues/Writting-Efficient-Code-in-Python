{
 "cells": [
  {
   "cell_type": "markdown",
   "id": "fcb0ead5",
   "metadata": {},
   "source": [
    "# Funções apply, iterrows, itertuples"
   ]
  },
  {
   "cell_type": "code",
   "execution_count": null,
   "id": "56489573",
   "metadata": {},
   "outputs": [],
   "source": []
  },
  {
   "cell_type": "code",
   "execution_count": null,
   "id": "555db6ae",
   "metadata": {},
   "outputs": [],
   "source": []
  },
  {
   "cell_type": "code",
   "execution_count": null,
   "id": "cb2aa8b9",
   "metadata": {},
   "outputs": [],
   "source": []
  },
  {
   "cell_type": "code",
   "execution_count": null,
   "id": "af64ef50",
   "metadata": {},
   "outputs": [],
   "source": []
  },
  {
   "cell_type": "markdown",
   "id": "46ab01aa",
   "metadata": {},
   "source": [
    "## Comparar tempos de execuções da função apply, usando numpy arrays, iterrows e itertuples"
   ]
  },
  {
   "cell_type": "markdown",
   "id": "c71a7e2c",
   "metadata": {},
   "source": []
  }
 ],
 "metadata": {
  "kernelspec": {
   "display_name": "Python 3 (ipykernel)",
   "language": "python",
   "name": "python3"
  },
  "language_info": {
   "codemirror_mode": {
    "name": "ipython",
    "version": 3
   },
   "file_extension": ".py",
   "mimetype": "text/x-python",
   "name": "python",
   "nbconvert_exporter": "python",
   "pygments_lexer": "ipython3",
   "version": "3.9.7"
  }
 },
 "nbformat": 4,
 "nbformat_minor": 5
}
