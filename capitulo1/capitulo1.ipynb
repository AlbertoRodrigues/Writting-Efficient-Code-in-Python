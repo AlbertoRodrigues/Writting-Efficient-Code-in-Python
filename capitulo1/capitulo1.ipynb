{
 "cells": [
  {
   "cell_type": "markdown",
   "id": "c5c535dc",
   "metadata": {},
   "source": [
    "## Escrever código em python é muito importante para poupar de tarefas usuais de ciência de dados. Aqui o propósito do código eficiente é gastar o menor tempo possível para a execução do código e gastar a menor quantidade de memória possível"
   ]
  },
  {
   "cell_type": "markdown",
   "id": "b9e0ac13",
   "metadata": {},
   "source": [
    "## Existem funções que ajudam muito no dia a dia para esse propósito.\n",
    "## Algumas funções são:\n",
    "1. range\n",
    "2. enumerate\n",
    "3. zip\n",
    "4. map\n",
    "5. A função anônima chamada de lambda"
   ]
  },
  {
   "cell_type": "markdown",
   "id": "ad7be914",
   "metadata": {},
   "source": [
    "## Ao invés de criarmos uma lista extensa seguindo uma determinada ordem podemos usar a função range:"
   ]
  },
  {
   "cell_type": "code",
   "execution_count": 4,
   "id": "3641ba13",
   "metadata": {},
   "outputs": [
    {
     "data": {
      "text/plain": [
       "[0, 1, 2, 3, 4, 5, 6, 7, 8, 9]"
      ]
     },
     "execution_count": 4,
     "metadata": {},
     "output_type": "execute_result"
    }
   ],
   "source": [
    "# Ao invés disso\n",
    "[0, 1, 2, 3, 4, 5, 6, 7, 8, 9]"
   ]
  },
  {
   "cell_type": "code",
   "execution_count": 3,
   "id": "f2772ebd",
   "metadata": {},
   "outputs": [
    {
     "data": {
      "text/plain": [
       "[0, 1, 2, 3, 4, 5, 6, 7, 8, 9]"
      ]
     },
     "execution_count": 3,
     "metadata": {},
     "output_type": "execute_result"
    }
   ],
   "source": [
    "# Vamos fazer isso\n",
    "list(range(10))"
   ]
  },
  {
   "cell_type": "markdown",
   "id": "32ba3769",
   "metadata": {},
   "source": [
    "## A função enumerate concatena uma lista/array com os indices"
   ]
  },
  {
   "cell_type": "code",
   "execution_count": 6,
   "id": "2174522f",
   "metadata": {},
   "outputs": [],
   "source": [
    "altura = [1.9, 1.65, 1.55, 1.67, 1.53]"
   ]
  },
  {
   "cell_type": "code",
   "execution_count": 7,
   "id": "f521a36e",
   "metadata": {},
   "outputs": [
    {
     "data": {
      "text/plain": [
       "[(0, 1.9), (1, 1.65), (2, 1.55), (3, 1.67), (4, 1.53)]"
      ]
     },
     "execution_count": 7,
     "metadata": {},
     "output_type": "execute_result"
    }
   ],
   "source": [
    "list(enumerate(altura))"
   ]
  },
  {
   "cell_type": "markdown",
   "id": "a741b12a",
   "metadata": {},
   "source": [
    "## A função map é muito útil, pois através dela podemos aplicar alguma função em todas os elementos de um objeto enumerável. Podemos criar uma função lambda, cuja expressão é escrita em uma linha"
   ]
  },
  {
   "cell_type": "code",
   "execution_count": 8,
   "id": "10099723",
   "metadata": {},
   "outputs": [
    {
     "data": {
      "text/plain": [
       "[2, 2, 2, 2, 2]"
      ]
     },
     "execution_count": 8,
     "metadata": {},
     "output_type": "execute_result"
    }
   ],
   "source": [
    "list(map(round, altura))"
   ]
  },
  {
   "cell_type": "code",
   "execution_count": 9,
   "id": "54a39614",
   "metadata": {},
   "outputs": [
    {
     "data": {
      "text/plain": [
       "[2, 2, 2, 2, 2]"
      ]
     },
     "execution_count": 9,
     "metadata": {},
     "output_type": "execute_result"
    }
   ],
   "source": [
    "list(map(round, altura))"
   ]
  },
  {
   "cell_type": "code",
   "execution_count": 10,
   "id": "c6f31d72",
   "metadata": {},
   "outputs": [
    {
     "data": {
      "text/plain": [
       "[3.61, 2.7224999999999997, 2.4025000000000003, 2.7889, 2.3409]"
      ]
     },
     "execution_count": 10,
     "metadata": {},
     "output_type": "execute_result"
    }
   ],
   "source": [
    "list(map(lambda x: x**2, altura))"
   ]
  },
  {
   "cell_type": "markdown",
   "id": "b54e636b",
   "metadata": {},
   "source": [
    "## A função zip concatena vários objetos de mesmo tamanho"
   ]
  },
  {
   "cell_type": "code",
   "execution_count": 11,
   "id": "6c3d81c4",
   "metadata": {},
   "outputs": [],
   "source": [
    "peso = [78, 81, 121, 51, 89]"
   ]
  },
  {
   "cell_type": "code",
   "execution_count": 13,
   "id": "04dd0db7",
   "metadata": {},
   "outputs": [
    {
     "data": {
      "text/plain": [
       "[(1.9, 78), (1.65, 81), (1.55, 121), (1.67, 51), (1.53, 89)]"
      ]
     },
     "execution_count": 13,
     "metadata": {},
     "output_type": "execute_result"
    }
   ],
   "source": [
    "list(zip(altura, peso))"
   ]
  },
  {
   "cell_type": "markdown",
   "id": "d85edf2e",
   "metadata": {},
   "source": [
    "## Uso dos arrays do numpy é uma escolha muito boa, pois existem algumas vantagens em utilizar esse tipo de objeto ao invés de uma lista, por exemplo. Um array numpy permite vetorização, que é aplicar alguma tarefa em todos os elementos de maneira fácil e mais rápida."
   ]
  },
  {
   "cell_type": "code",
   "execution_count": 14,
   "id": "82afd268",
   "metadata": {},
   "outputs": [],
   "source": [
    "import numpy as np"
   ]
  },
  {
   "cell_type": "markdown",
   "id": "e3b3970d",
   "metadata": {},
   "source": [
    "### Para eu elevar cada número de uma lista ao quadrado, o procedimento é o seguinte:"
   ]
  },
  {
   "cell_type": "code",
   "execution_count": 19,
   "id": "742c38a8",
   "metadata": {},
   "outputs": [
    {
     "data": {
      "text/plain": [
       "[-2, -1, 0, 1, 2]"
      ]
     },
     "execution_count": 19,
     "metadata": {},
     "output_type": "execute_result"
    }
   ],
   "source": [
    "nums"
   ]
  },
  {
   "cell_type": "code",
   "execution_count": 17,
   "id": "3fa18c06",
   "metadata": {},
   "outputs": [
    {
     "name": "stdout",
     "output_type": "stream",
     "text": [
      "[4, 1, 0, 1, 4]\n"
     ]
    }
   ],
   "source": [
    "# For loop (inefficient option)\n",
    "sqrd_nums = []\n",
    "for num in nums:\n",
    "    sqrd_nums.append(num ** 2)\n",
    "print(sqrd_nums)"
   ]
  },
  {
   "cell_type": "code",
   "execution_count": 18,
   "id": "ee88fa59",
   "metadata": {},
   "outputs": [
    {
     "name": "stdout",
     "output_type": "stream",
     "text": [
      "[4, 1, 0, 1, 4]\n"
     ]
    }
   ],
   "source": [
    "# List comprehension (better option but not best)\n",
    "sqrd_nums = [num ** 2 for num in nums]\n",
    "print(sqrd_nums)"
   ]
  },
  {
   "cell_type": "markdown",
   "id": "e3bcdaba",
   "metadata": {},
   "source": [
    "### Usando numpy é muito mais rápido e mais eficiente"
   ]
  },
  {
   "cell_type": "code",
   "execution_count": 20,
   "id": "c7075d24",
   "metadata": {},
   "outputs": [
    {
     "data": {
      "text/plain": [
       "array([4, 1, 0, 1, 4], dtype=int32)"
      ]
     },
     "execution_count": 20,
     "metadata": {},
     "output_type": "execute_result"
    }
   ],
   "source": [
    "nums_np = np.array(nums)\n",
    "nums_np ** 2"
   ]
  }
 ],
 "metadata": {
  "kernelspec": {
   "display_name": "Python 3 (ipykernel)",
   "language": "python",
   "name": "python3"
  },
  "language_info": {
   "codemirror_mode": {
    "name": "ipython",
    "version": 3
   },
   "file_extension": ".py",
   "mimetype": "text/x-python",
   "name": "python",
   "nbconvert_exporter": "python",
   "pygments_lexer": "ipython3",
   "version": "3.9.7"
  }
 },
 "nbformat": 4,
 "nbformat_minor": 5
}
