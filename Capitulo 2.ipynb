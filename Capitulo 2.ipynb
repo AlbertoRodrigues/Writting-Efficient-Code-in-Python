{
 "cells": [
  {
   "cell_type": "markdown",
   "id": "33d193b7",
   "metadata": {},
   "source": [
    "## Esse capítulo vai mostrar alguns comandos que mostram os tempos de execuções de determinadas tarefas para comparação"
   ]
  },
  {
   "cell_type": "markdown",
   "id": "c81d1c12",
   "metadata": {},
   "source": [
    "### A maneira mais fácil de fazer isso é utilizando o comando %timeit. A saída é a média e desvio padrão de várias execuções. Para usar basta colocar esse comando antes do código."
   ]
  },
  {
   "attachments": {
    "image.png": {
     "image/png": "[encoded data removed]"
    }
   },
   "cell_type": "markdown",
   "id": "ba7dd38d",
   "metadata": {},
   "source": [
    "### A unidade de medida pode ser algumas dessas:\n",
    "![image.png](attachment:image.png)"
   ]
  },
  {
   "cell_type": "code",
   "execution_count": 1,
   "id": "4c9dce9d",
   "metadata": {},
   "outputs": [],
   "source": [
    "import numpy as np"
   ]
  },
  {
   "cell_type": "code",
   "execution_count": 2,
   "id": "7a196dfb",
   "metadata": {},
   "outputs": [
    {
     "name": "stdout",
     "output_type": "stream",
     "text": [
      "9.31 µs ± 198 ns per loop (mean ± std. dev. of 7 runs, 100000 loops each)\n"
     ]
    }
   ],
   "source": [
    "%timeit rand_nums = np.random.rand(1000)"
   ]
  },
  {
   "cell_type": "markdown",
   "id": "6559ce7b",
   "metadata": {},
   "source": [
    "### Também podemos configurar o número de execuções e número de loops de cada execução"
   ]
  },
  {
   "cell_type": "code",
   "execution_count": 3,
   "id": "88cc1a49",
   "metadata": {},
   "outputs": [
    {
     "name": "stdout",
     "output_type": "stream",
     "text": [
      "The slowest run took 11.44 times longer than the fastest. This could mean that an intermediate result is being cached.\n",
      "74.2 µs ± 62.3 µs per loop (mean ± std. dev. of 2 runs, 10 loops each)\n"
     ]
    }
   ],
   "source": [
    "# 2 execuções com 10 loops em cada um\n",
    "%timeit -r2 -n10 rand_nums = np.random.rand(1000)"
   ]
  },
  {
   "cell_type": "markdown",
   "id": "231509be",
   "metadata": {},
   "source": [
    "## Se quisermos usar em mais de uma linha de código, devemos o usar o comando %%timeit e uma linha antes do código a ser analisado"
   ]
  },
  {
   "cell_type": "code",
   "execution_count": 5,
   "id": "658bd61a",
   "metadata": {},
   "outputs": [
    {
     "name": "stdout",
     "output_type": "stream",
     "text": [
      "797 ns ± 77.9 ns per loop (mean ± std. dev. of 7 runs, 1000000 loops each)\n"
     ]
    }
   ],
   "source": [
    "%%timeit\n",
    "nums = []\n",
    "for x in range(10):\n",
    "    nums.append(x)"
   ]
  },
  {
   "cell_type": "markdown",
   "id": "36293cd0",
   "metadata": {},
   "source": [
    "## Também podemos usar o argumento -o para salvar os tempos e analisar, se for necessário"
   ]
  },
  {
   "cell_type": "code",
   "execution_count": 6,
   "id": "d9e8acb7",
   "metadata": {},
   "outputs": [
    {
     "name": "stdout",
     "output_type": "stream",
     "text": [
      "10.1 µs ± 1.05 µs per loop (mean ± std. dev. of 7 runs, 100000 loops each)\n"
     ]
    }
   ],
   "source": [
    "times = %timeit -o rand_nums = np.random.rand(1000)"
   ]
  },
  {
   "cell_type": "code",
   "execution_count": 7,
   "id": "34588ff5",
   "metadata": {},
   "outputs": [
    {
     "data": {
      "text/plain": [
       "[9.53627799999822e-06,\n",
       " 8.597449000001234e-06,\n",
       " 9.009177000000363e-06,\n",
       " 1.0894000000000687e-05,\n",
       " 1.0711393000001407e-05,\n",
       " 1.1830215999998473e-05,\n",
       " 1.0142701000002034e-05]"
      ]
     },
     "execution_count": 7,
     "metadata": {},
     "output_type": "execute_result"
    }
   ],
   "source": [
    "times.timings"
   ]
  },
  {
   "cell_type": "code",
   "execution_count": 9,
   "id": "6db7586a",
   "metadata": {},
   "outputs": [
    {
     "data": {
      "text/plain": [
       "1.1830215999998473e-05"
      ]
     },
     "execution_count": 9,
     "metadata": {},
     "output_type": "execute_result"
    }
   ],
   "source": [
    "max(times.timings)"
   ]
  },
  {
   "cell_type": "markdown",
   "id": "3d373428",
   "metadata": {},
   "source": [
    "## Se quisermos comparar os tempos de criação de um dicionário usando {} ou dict(), basta usar o %time it e comparar os resultados:"
   ]
  },
  {
   "cell_type": "code",
   "execution_count": 10,
   "id": "1918874d",
   "metadata": {},
   "outputs": [
    {
     "name": "stdout",
     "output_type": "stream",
     "text": [
      "97.6 ns ± 6.73 ns per loop (mean ± std. dev. of 7 runs, 10000000 loops each)\n"
     ]
    }
   ],
   "source": [
    "%timeit formal_dict = dict()"
   ]
  },
  {
   "cell_type": "code",
   "execution_count": 11,
   "id": "3eb959e1",
   "metadata": {},
   "outputs": [
    {
     "name": "stdout",
     "output_type": "stream",
     "text": [
      "46.9 ns ± 27.5 ns per loop (mean ± std. dev. of 7 runs, 10000000 loops each)\n"
     ]
    }
   ],
   "source": [
    "%timeit literal_dict = {}"
   ]
  },
  {
   "cell_type": "markdown",
   "id": "bf76d59f",
   "metadata": {},
   "source": [
    "### Assim, concluindo que usar {} é mais eficiente do que usar dict()"
   ]
  },
  {
   "cell_type": "markdown",
   "id": "674b30fa",
   "metadata": {},
   "source": [
    "## E se quisermos ver uma análise detalhada de eficiência linha por linha de uma função? Existe uma forma de verificar o tempo executado e a porcentagem em relação a função inteira.\n",
    "### Antes, precisamos baixar o pacote line_profiler via pip"
   ]
  },
  {
   "cell_type": "code",
   "execution_count": 12,
   "id": "6207f4e9",
   "metadata": {},
   "outputs": [],
   "source": [
    "heroes = ['Batman', 'Superman', 'Wonder Woman']\n",
    "hts = np.array([188.0, 191.0, 183.0])\n",
    "wts = np.array([ 95.0, 101.0, 74.0])"
   ]
  },
  {
   "cell_type": "code",
   "execution_count": 13,
   "id": "5f492b47",
   "metadata": {},
   "outputs": [],
   "source": [
    "def convert_units(heroes, heights, weights):\n",
    "    new_hts = [ht * 0.39370 for ht in heights]\n",
    "    new_wts = [wt * 2.20462 for wt in weights]\n",
    "    hero_data = {}\n",
    "    for i,hero in enumerate(heroes):\n",
    "        hero_data[hero] = (new_hts[i], new_wts[i])\n",
    "    return hero_data"
   ]
  },
  {
   "cell_type": "code",
   "execution_count": 14,
   "id": "4dba913a",
   "metadata": {},
   "outputs": [
    {
     "data": {
      "text/plain": [
       "{'Batman': (74.01559999999999, 209.4389),\n",
       " 'Superman': (75.19669999999999, 222.66661999999997),\n",
       " 'Wonder Woman': (72.0471, 163.14188)}"
      ]
     },
     "execution_count": 14,
     "metadata": {},
     "output_type": "execute_result"
    }
   ],
   "source": [
    "convert_units(heroes, hts, wts)"
   ]
  },
  {
   "cell_type": "code",
   "execution_count": 15,
   "id": "149ed3c9",
   "metadata": {},
   "outputs": [],
   "source": [
    "%load_ext line_profiler"
   ]
  },
  {
   "cell_type": "code",
   "execution_count": 18,
   "id": "11557842",
   "metadata": {},
   "outputs": [],
   "source": [
    "# Observação: A saída dessa comando não aparece no jupyter. Precisa executar para ver a saída em outra página.\n",
    "%lprun -f convert_units convert_units(heroes, hts, wts)"
   ]
  },
  {
   "cell_type": "markdown",
   "id": "9b985cad",
   "metadata": {},
   "source": [
    "## Existe uma versão do line_profiler para uso de memória, chamado memory_profiler. Onde precisamos baixar via pip. A desvantagem de analisar isso é que temos chamar a função de outro arquivo python, nesse caso, chamarei do arquivo hero_funcs.py"
   ]
  },
  {
   "cell_type": "code",
   "execution_count": 21,
   "id": "033635f7",
   "metadata": {},
   "outputs": [],
   "source": [
    "from hero_funcs import convert_units"
   ]
  },
  {
   "cell_type": "code",
   "execution_count": 22,
   "id": "26290e8d",
   "metadata": {},
   "outputs": [
    {
     "name": "stdout",
     "output_type": "stream",
     "text": [
      "The memory_profiler extension is already loaded. To reload it, use:\n",
      "  %reload_ext memory_profiler\n"
     ]
    }
   ],
   "source": [
    "%load_ext memory_profiler"
   ]
  },
  {
   "cell_type": "code",
   "execution_count": 23,
   "id": "f917c106",
   "metadata": {},
   "outputs": [
    {
     "name": "stdout",
     "output_type": "stream",
     "text": [
      "\n"
     ]
    }
   ],
   "source": [
    "# Observação: A saída dessa comando não aparece no jupyter. Precisa executar para ver a saída em outra página.\n",
    "%mprun -f convert_units convert_units(heroes, hts, wts)"
   ]
  },
  {
   "cell_type": "code",
   "execution_count": null,
   "id": "4c09e0f1",
   "metadata": {},
   "outputs": [],
   "source": []
  }
 ],
 "metadata": {
  "kernelspec": {
   "display_name": "Python 3 (ipykernel)",
   "language": "python",
   "name": "python3"
  },
  "language_info": {
   "codemirror_mode": {
    "name": "ipython",
    "version": 3
   },
   "file_extension": ".py",
   "mimetype": "text/x-python",
   "name": "python",
   "nbconvert_exporter": "python",
   "pygments_lexer": "ipython3",
   "version": "3.9.7"
  }
 },
 "nbformat": 4,
 "nbformat_minor": 5
}
